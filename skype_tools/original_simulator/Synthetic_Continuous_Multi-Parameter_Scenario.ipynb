{
 "cells": [
  {
   "cell_type": "code",
   "execution_count": 1,
   "metadata": {},
   "outputs": [],
   "source": [
    "import os\n",
    "import itertools\n",
    "import pandas as pd\n",
    "import numpy as np\n",
    "from IPython.display import Markdown, display\n",
    "from simulator_utilities import *\n",
    "np.random.seed(7)"
   ]
  },
  {
   "cell_type": "code",
   "execution_count": 9,
   "metadata": {},
   "outputs": [
    {
     "name": "stdout",
     "output_type": "stream",
     "text": [
      "Data Size per Configuration: 6,200\n",
      "Data Size per Context: 1,190,400\n",
      "Total Data Size: 9,523,200\n"
     ]
    }
   ],
   "source": [
    "# ========================\n",
    "# Preparation\n",
    "# ========================\n",
    "# Output\n",
    "folder_path = r'/w/repos/slate_sim/data/no_changes'\n",
    "summary_file_path = os.path.join(folder_path, 'simulation_data_summary.csv')\n",
    "context_file_path = os.path.join(folder_path, 'simulation_data_{0}.csv')\n",
    "all_file_path = os.path.join(folder_path, 'simulation_data2.csv')\n",
    "\n",
    "# Contexts \n",
    "contexts = {'platform': ['Mac', 'Windows'], \n",
    "            'network': ['wifi', 'wired'], \n",
    "            'country': ['US', 'CA']}\n",
    "unique_contexts = [list(x) for x in itertools.product(*contexts.values())]\n",
    "\n",
    "# Parameter statistics\n",
    "params = {\n",
    "          'x': {'mean': 1, 'min': 0, 'max': 4, 'std_range': [0.1, 1.1]},\n",
    "          'y': {'mean': 1, 'min': 0, 'max': 3, 'std_range': [0.1, 1.1]}, \n",
    "          'z': {'mean': 1, 'min': 0, 'max': 2, 'std_range': [0.1, 1.1]}\n",
    "         }\n",
    "\n",
    "# Initialization\n",
    "data = []\n",
    "dist_context = {}\n",
    "reward_range = [0.05, 0.35]\n",
    "coefficient_range = [0.1, 1]\n",
    "interaction2 = True\n",
    "known_n = None\n",
    "descritization_policy = {'x': 8, 'y': 6, 'z': 4}\n",
    "share_descritized_grid = True\n",
    "\n",
    "# Confidence Interval statistics\n",
    "ci_mean = 0\n",
    "ci_std = 0.1\n",
    "ci_dist = gen_distribution('normal', ci_mean, ci_std, 5000)[0]\n",
    "\n",
    "# N for each unique context\n",
    "if known_n:\n",
    "    n_per_config = known_n\n",
    "else:\n",
    "    ci_width = 0.005\n",
    "    ci_mult = 1.96\n",
    "    n_per_config = int(((ci_mult*ci_std/(ci_width/2))**2//100+1)*100)\n",
    "n_per_context = np.prod([x if isinstance(x, int) else len(x)for x in descritization_policy.values()]) * n_per_config\n",
    "print('Data Size per Configuration: {:,}'.format(n_per_config))\n",
    "print('Data Size per Context: {:,}'.format(n_per_context))\n",
    "print('Total Data Size: {:,}'.format(n_per_context*len(unique_contexts)))"
   ]
  },
  {
   "cell_type": "code",
   "execution_count": 10,
   "metadata": {},
   "outputs": [
    {
     "data": {
      "text/markdown": [
       "* reward = 0.4536x + 0.4029y + 0.6907z + 0.629xy + 0.9425xz + 0.6135yz"
      ],
      "text/plain": [
       "<IPython.core.display.Markdown object>"
      ]
     },
     "metadata": {},
     "output_type": "display_data"
    },
    {
     "data": {
      "text/markdown": [
       "* reward = 0.4717x + 0.942y + 0.7765z + 0.4469xy + 0.4216xz + 0.7715yz"
      ],
      "text/plain": [
       "<IPython.core.display.Markdown object>"
      ]
     },
     "metadata": {},
     "output_type": "display_data"
    },
    {
     "data": {
      "text/markdown": [
       "* reward = 0.6787x + 0.8366y + 0.943z + 0.2928xy + 0.1167xz + 0.5696yz"
      ],
      "text/plain": [
       "<IPython.core.display.Markdown object>"
      ]
     },
     "metadata": {},
     "output_type": "display_data"
    },
    {
     "data": {
      "text/markdown": [
       "* reward = 0.4244x + 0.9763y + 0.2896z + 0.7557xy + 0.3804xz + 0.3595yz"
      ],
      "text/plain": [
       "<IPython.core.display.Markdown object>"
      ]
     },
     "metadata": {},
     "output_type": "display_data"
    },
    {
     "data": {
      "text/markdown": [
       "* reward = 0.1341x + 0.9369y + 0.6904z + 0.5507xy + 0.8814xz + 0.7389yz"
      ],
      "text/plain": [
       "<IPython.core.display.Markdown object>"
      ]
     },
     "metadata": {},
     "output_type": "display_data"
    },
    {
     "data": {
      "text/markdown": [
       "* reward = 0.6955x + 0.4882y + 0.3424z + 0.23xy + 0.5295xz + 0.2228yz"
      ],
      "text/plain": [
       "<IPython.core.display.Markdown object>"
      ]
     },
     "metadata": {},
     "output_type": "display_data"
    },
    {
     "data": {
      "text/markdown": [
       "* reward = 0.1011x + 0.1249y + 0.1083z + 0.714xy + 0.6099xz + 0.5863yz"
      ],
      "text/plain": [
       "<IPython.core.display.Markdown object>"
      ]
     },
     "metadata": {},
     "output_type": "display_data"
    },
    {
     "data": {
      "text/markdown": [
       "* reward = 0.2235x + 0.2301y + 0.7272z + 0.6984xy + 0.8501xz + 0.7932yz"
      ],
      "text/plain": [
       "<IPython.core.display.Markdown object>"
      ]
     },
     "metadata": {},
     "output_type": "display_data"
    }
   ],
   "source": [
    "# ========================\n",
    "# Generate data\n",
    "# ========================\n",
    "param_list = list(params.keys())\n",
    "df_cols = list(contexts.keys()) + param_list + ['reward']\n",
    "plot_pairs = [x for x in itertools.combinations(range(len(param_list)), 2)]\n",
    "df_summary = pd.DataFrame()\n",
    "\n",
    "df_all = pd.DataFrame()\n",
    "\n",
    "if share_descritized_grid:\n",
    "    for k, v in descritization_policy.items():\n",
    "        if isinstance(v, int):\n",
    "            descritization_policy[k] = [round(x,4) for x in np.linspace(params[k]['min'], params[k]['max'], v)]\n",
    "\n",
    "for i, c in enumerate(unique_contexts):\n",
    "    \n",
    "#     display(Markdown('**[{0}/{1}] Generating data for context {2} ...**'.format(i+1, len(unique_contexts), c)))\n",
    "\n",
    "    # [1] Generate Distributions\n",
    "    n_dist = 5000\n",
    "    dist_context[i] = gen_param_reward(params, reward_range, n_dist)\n",
    "#     plot_1d_param_reward(dist_context[i])\n",
    "    \n",
    "    # [2] Coefficients\n",
    "    if interaction2:\n",
    "        inter_terms = [x for x in itertools.combinations(range(len(param_list)), 2)]\n",
    "    else:\n",
    "        inter_terms = []\n",
    "    n_coef = len(param_list) + len(inter_terms)\n",
    "    coefficients = np.random.uniform(coefficient_range[0], coefficient_range[1], n_coef)    \n",
    "    \n",
    "    # [3] Discretize parameter\n",
    "    discretize_parameters(dist_context[i], descritization_policy, equal_distance=True)\n",
    "    dist_context[i]['configs'] = gen_config_reward(dist_context[i], param_list)\n",
    "    \n",
    "    # [4] Reward formula\n",
    "    reward_formula = param_list + ['{0}{1}'.format(param_list[x[0]], param_list[x[1]]) for x in inter_terms]\n",
    "    dist_context[i]['configs']['reward_equation'] = formulate_equation(reward_formula, coefficients)\n",
    "    dist_context[i]['configs']['config_rterms'] = add_interactions(dist_context[i]['configs']['config_rterms'], inter_terms)\n",
    "    display(Markdown('* {0}'.format(dist_context[i]['configs']['reward_equation'])))\n",
    "    \n",
    "    # [5] Generate data\n",
    "    num_values = gen_data(dist_context[i], n_per_config, ci_dist, coefficients, reward_range)\n",
    "    dist_context[i]['configs']['config_reward'] = np.array([x[-1] for x in num_values])\n",
    "    c_data = [c + list(x) for x in num_values]\n",
    "    data = data + c_data\n",
    "    \n",
    "    # [6] Plot 2D\n",
    "#     plot_data = pd.DataFrame(num_values, columns=param_list + ['reward'])\n",
    "#     plot_2d_paris(plot_data, param_list, inter_terms, round_to=0.05)\n",
    "            \n",
    "    # [7] To file\n",
    "    df_context = pd.DataFrame(c_data, columns=df_cols)\n",
    "    df_context = df_context.sample(frac=1)\n",
    "    df_all = df_all.append(df_context)\n",
    "    \n",
    "    # [8] Summary\n",
    "    df_mean = summarize_df(df_context, param_list, c)\n",
    "    df_summary = df_summary.append(df_mean)"
   ]
  },
  {
   "cell_type": "code",
   "execution_count": 28,
   "metadata": {},
   "outputs": [],
   "source": [
    "# Save summary file\n",
    "df_summary.to_csv(summary_file_path, index=False)"
   ]
  },
  {
   "cell_type": "code",
   "execution_count": 35,
   "metadata": {},
   "outputs": [],
   "source": [
    "all_file_path = os.path.join(folder_path, 'simulation_data_scaledto1.csv')\n",
    "df_all.to_csv(all_file_path, index=False)"
   ]
  },
  {
   "cell_type": "code",
   "execution_count": 12,
   "metadata": {},
   "outputs": [
    {
     "data": {
      "text/html": [
       "<div>\n",
       "<style scoped>\n",
       "    .dataframe tbody tr th:only-of-type {\n",
       "        vertical-align: middle;\n",
       "    }\n",
       "\n",
       "    .dataframe tbody tr th {\n",
       "        vertical-align: top;\n",
       "    }\n",
       "\n",
       "    .dataframe thead th {\n",
       "        text-align: right;\n",
       "    }\n",
       "</style>\n",
       "<table border=\"1\" class=\"dataframe\">\n",
       "  <thead>\n",
       "    <tr style=\"text-align: right;\">\n",
       "      <th></th>\n",
       "      <th>reward</th>\n",
       "    </tr>\n",
       "  </thead>\n",
       "  <tbody>\n",
       "    <tr>\n",
       "      <th>1101410</th>\n",
       "      <td>0.350000</td>\n",
       "    </tr>\n",
       "    <tr>\n",
       "      <th>1075106</th>\n",
       "      <td>0.350000</td>\n",
       "    </tr>\n",
       "    <tr>\n",
       "      <th>210722</th>\n",
       "      <td>0.350000</td>\n",
       "    </tr>\n",
       "    <tr>\n",
       "      <th>611042</th>\n",
       "      <td>0.350000</td>\n",
       "    </tr>\n",
       "    <tr>\n",
       "      <th>1015778</th>\n",
       "      <td>0.350000</td>\n",
       "    </tr>\n",
       "    <tr>\n",
       "      <th>...</th>\n",
       "      <td>...</td>\n",
       "    </tr>\n",
       "    <tr>\n",
       "      <th>898559</th>\n",
       "      <td>0.688074</td>\n",
       "    </tr>\n",
       "    <tr>\n",
       "      <th>887423</th>\n",
       "      <td>0.688074</td>\n",
       "    </tr>\n",
       "    <tr>\n",
       "      <th>714239</th>\n",
       "      <td>0.688074</td>\n",
       "    </tr>\n",
       "    <tr>\n",
       "      <th>1009727</th>\n",
       "      <td>0.688074</td>\n",
       "    </tr>\n",
       "    <tr>\n",
       "      <th>42411</th>\n",
       "      <td>0.688074</td>\n",
       "    </tr>\n",
       "  </tbody>\n",
       "</table>\n",
       "<p>2196875 rows × 1 columns</p>\n",
       "</div>"
      ],
      "text/plain": [
       "           reward\n",
       "1101410  0.350000\n",
       "1075106  0.350000\n",
       "210722   0.350000\n",
       "611042   0.350000\n",
       "1015778  0.350000\n",
       "...           ...\n",
       "898559   0.688074\n",
       "887423   0.688074\n",
       "714239   0.688074\n",
       "1009727  0.688074\n",
       "42411    0.688074\n",
       "\n",
       "[2196875 rows x 1 columns]"
      ]
     },
     "execution_count": 12,
     "metadata": {},
     "output_type": "execute_result"
    }
   ],
   "source": [
    "pd.DataFrame(df_all[\"reward\"]).query('reward>0.35').sort_values(\"reward\")"
   ]
  },
  {
   "cell_type": "code",
   "execution_count": 20,
   "metadata": {},
   "outputs": [
    {
     "data": {
      "text/plain": [
       "Index([        ('Mac', 'wifi', 'US', 0.0, 0.6, 0.6667, 0.09564447481313343),\n",
       "               ('Mac', 'wifi', 'US', 4.0, 0.6, 1.3333, 0.19001861193672703),\n",
       "             ('Mac', 'wifi', 'US', 2.8571, 3.0, 1.3333, 0.1826750691872218),\n",
       "            ('Mac', 'wifi', 'US', 2.8571, 1.8, 1.3333, 0.16679204194345365),\n",
       "               ('Mac', 'wifi', 'US', 2.8571, 3.0, 2.0, 0.32528477860581445),\n",
       "                ('Mac', 'wifi', 'US', 0.5714, 0.6, 0.0, 0.2854394461158166),\n",
       "               ('Mac', 'wifi', 'US', 1.1429, 1.8, 0.0, 0.31625533883648055),\n",
       "            ('Mac', 'wifi', 'US', 0.5714, 0.6, 0.6667, 0.05014855937056123),\n",
       "                   ('Mac', 'wifi', 'US', 4.0, 1.2, 2.0, 0.3432934002317119),\n",
       "             ('Mac', 'wifi', 'US', 2.2857, 1.2, 0.6667, 0.1001668116969795),\n",
       "       ...\n",
       "        ('Windows', 'wired', 'CA', 3.4286, 0.0, 0.6667, 0.1257947831351207),\n",
       "        ('Windows', 'wired', 'CA', 2.8571, 1.2, 1.3333, 0.2018403288895462),\n",
       "       ('Windows', 'wired', 'CA', 3.4286, 2.4, 0.6667, 0.06438239520733757),\n",
       "          ('Windows', 'wired', 'CA', 2.2857, 3.0, 2.0, 0.29086898181272064),\n",
       "       ('Windows', 'wired', 'CA', 2.8571, 0.6, 0.6667, 0.15096170261248865),\n",
       "           ('Windows', 'wired', 'CA', 0.0, 1.8, 0.6667, 0.1495029559015371),\n",
       "       ('Windows', 'wired', 'CA', 3.4286, 1.8, 0.6667, 0.08985132963485087),\n",
       "           ('Windows', 'wired', 'CA', 3.4286, 2.4, 2.0, 0.1356136738614712),\n",
       "           ('Windows', 'wired', 'CA', 1.1429, 1.2, 0.0, 0.3227875225160981),\n",
       "       ('Windows', 'wired', 'CA', 2.2857, 2.4, 1.3333, 0.14852437834705043)],\n",
       "      dtype='object', length=614400)"
      ]
     },
     "execution_count": 20,
     "metadata": {},
     "output_type": "execute_result"
    }
   ],
   "source": []
  },
  {
   "cell_type": "code",
   "execution_count": null,
   "metadata": {},
   "outputs": [],
   "source": []
  }
 ],
 "metadata": {
  "kernelspec": {
   "display_name": "Python 3",
   "language": "python",
   "name": "python3"
  },
  "language_info": {
   "codemirror_mode": {
    "name": "ipython",
    "version": 3
   },
   "file_extension": ".py",
   "mimetype": "text/x-python",
   "name": "python",
   "nbconvert_exporter": "python",
   "pygments_lexer": "ipython3",
   "version": "3.6.9"
  }
 },
 "nbformat": 4,
 "nbformat_minor": 2
}
