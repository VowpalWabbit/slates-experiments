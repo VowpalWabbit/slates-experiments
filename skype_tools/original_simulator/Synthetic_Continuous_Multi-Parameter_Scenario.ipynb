{
 "cells": [
  {
   "cell_type": "code",
   "execution_count": 1,
   "metadata": {},
   "outputs": [],
   "source": [
    "import os\n",
    "import itertools\n",
    "import pandas as pd\n",
    "import numpy as np\n",
    "from IPython.display import Markdown, display\n",
    "from simulator_utilities import *\n",
    "np.random.seed(7)"
   ]
  },
  {
   "cell_type": "code",
   "execution_count": 33,
   "metadata": {},
   "outputs": [
    {
     "name": "stdout",
     "output_type": "stream",
     "text": [
      "Data Size per Configuration: 20\n",
      "Data Size per Context: 3,840\n",
      "Total Data Size: 30,720\n"
     ]
    }
   ],
   "source": [
    "# ========================\n",
    "# Preparation\n",
    "# ========================\n",
    "# Output\n",
    "folder_path = r'/w/repos/slate_sim/data/no_changes'\n",
    "summary_file_path = os.path.join(folder_path, 'simulation_data_summary.csv')\n",
    "context_file_path = os.path.join(folder_path, 'simulation_data_{0}.csv')\n",
    "all_file_path = os.path.join(folder_path, 'simulation_data2.csv')\n",
    "\n",
    "# Contexts \n",
    "contexts = {'platform': ['Mac', 'Windows'], \n",
    "            'network': ['wifi', 'wired'], \n",
    "            'country': ['US', 'CA']}\n",
    "unique_contexts = [list(x) for x in itertools.product(*contexts.values())]\n",
    "\n",
    "# Parameter statistics\n",
    "params = {\n",
    "          'x': {'mean': 1, 'min': 0, 'max': 4, 'std_range': [0.1, 1.1]},\n",
    "          'y': {'mean': 1, 'min': 0, 'max': 3, 'std_range': [0.1, 1.1]}, \n",
    "          'z': {'mean': 1, 'min': 0, 'max': 2, 'std_range': [0.1, 1.1]}\n",
    "         }\n",
    "\n",
    "# Initialization\n",
    "data = []\n",
    "dist_context = {}\n",
    "reward_range = [.05, 1.0]\n",
    "coefficient_range = [0.1, 1]\n",
    "interaction2 = True\n",
    "known_n = 20\n",
    "descritization_policy = {'x': 8, 'y': 6, 'z': 4}\n",
    "share_descritized_grid = True\n",
    "\n",
    "# Confidence Interval statistics\n",
    "ci_mean = 0\n",
    "ci_std = 0.01\n",
    "ci_dist = gen_distribution('normal', ci_mean, ci_std, 5000)[0]\n",
    "\n",
    "# N for each unique context\n",
    "if known_n:\n",
    "    n_per_config = known_n\n",
    "else:\n",
    "    ci_width = 0.002\n",
    "    ci_mult = 1.96\n",
    "    n_per_config = int(((ci_mult*ci_std/(ci_width/2))**2//100+1)*100)\n",
    "n_per_context = np.prod([x if isinstance(x, int) else len(x)for x in descritization_policy.values()]) * n_per_config\n",
    "print('Data Size per Configuration: {:,}'.format(n_per_config))\n",
    "print('Data Size per Context: {:,}'.format(n_per_context))\n",
    "print('Total Data Size: {:,}'.format(n_per_context*len(unique_contexts)))"
   ]
  },
  {
   "cell_type": "code",
   "execution_count": 34,
   "metadata": {},
   "outputs": [
    {
     "data": {
      "text/markdown": [
       "* reward = 0.7875x + 0.5242y + 0.7557z + 0.1122xy + 0.3046xz + 0.837yz"
      ],
      "text/plain": [
       "<IPython.core.display.Markdown object>"
      ]
     },
     "metadata": {},
     "output_type": "display_data"
    },
    {
     "data": {
      "text/markdown": [
       "* reward = 0.6392x + 0.2534y + 0.9952z + 0.2024xy + 0.5861xz + 0.6795yz"
      ],
      "text/plain": [
       "<IPython.core.display.Markdown object>"
      ]
     },
     "metadata": {},
     "output_type": "display_data"
    },
    {
     "data": {
      "text/markdown": [
       "* reward = 0.4167x + 0.1486y + 0.6614z + 0.3107xy + 0.2628xz + 0.6293yz"
      ],
      "text/plain": [
       "<IPython.core.display.Markdown object>"
      ]
     },
     "metadata": {},
     "output_type": "display_data"
    },
    {
     "data": {
      "text/markdown": [
       "* reward = 0.6692x + 0.1653y + 0.5067z + 0.8331xy + 0.78xz + 0.293yz"
      ],
      "text/plain": [
       "<IPython.core.display.Markdown object>"
      ]
     },
     "metadata": {},
     "output_type": "display_data"
    },
    {
     "data": {
      "text/markdown": [
       "* reward = 0.9481x + 0.8909y + 0.3814z + 0.5411xy + 0.9267xz + 0.7846yz"
      ],
      "text/plain": [
       "<IPython.core.display.Markdown object>"
      ]
     },
     "metadata": {},
     "output_type": "display_data"
    },
    {
     "data": {
      "text/markdown": [
       "* reward = 0.9531x + 0.4032y + 0.2556z + 0.5255xy + 0.8277xz + 0.7502yz"
      ],
      "text/plain": [
       "<IPython.core.display.Markdown object>"
      ]
     },
     "metadata": {},
     "output_type": "display_data"
    },
    {
     "data": {
      "text/markdown": [
       "* reward = 0.639x + 0.741y + 0.8161z + 0.5613xy + 0.2891xz + 0.2648yz"
      ],
      "text/plain": [
       "<IPython.core.display.Markdown object>"
      ]
     },
     "metadata": {},
     "output_type": "display_data"
    },
    {
     "data": {
      "text/markdown": [
       "* reward = 0.7833x + 0.4882y + 0.4699z + 0.6798xy + 0.5418xz + 0.1076yz"
      ],
      "text/plain": [
       "<IPython.core.display.Markdown object>"
      ]
     },
     "metadata": {},
     "output_type": "display_data"
    }
   ],
   "source": [
    "# ========================\n",
    "# Generate data\n",
    "# ========================\n",
    "param_list = list(params.keys())\n",
    "df_cols = list(contexts.keys()) + param_list + ['reward']\n",
    "plot_pairs = [x for x in itertools.combinations(range(len(param_list)), 2)]\n",
    "df_summary = pd.DataFrame()\n",
    "\n",
    "df_all = pd.DataFrame()\n",
    "\n",
    "if share_descritized_grid:\n",
    "    for k, v in descritization_policy.items():\n",
    "        if isinstance(v, int):\n",
    "            descritization_policy[k] = [round(x,4) for x in np.linspace(params[k]['min'], params[k]['max'], v)]\n",
    "\n",
    "for i, c in enumerate(unique_contexts):\n",
    "    \n",
    "#     display(Markdown('**[{0}/{1}] Generating data for context {2} ...**'.format(i+1, len(unique_contexts), c)))\n",
    "\n",
    "    # [1] Generate Distributions\n",
    "    n_dist = 5000\n",
    "    dist_context[i] = gen_param_reward(params, reward_range, n_dist)\n",
    "#     plot_1d_param_reward(dist_context[i])\n",
    "    \n",
    "    # [2] Coefficients\n",
    "    if interaction2:\n",
    "        inter_terms = [x for x in itertools.combinations(range(len(param_list)), 2)]\n",
    "    else:\n",
    "        inter_terms = []\n",
    "    n_coef = len(param_list) + len(inter_terms)\n",
    "    coefficients = np.random.uniform(coefficient_range[0], coefficient_range[1], n_coef)    \n",
    "    \n",
    "    # [3] Discretize parameter\n",
    "    discretize_parameters(dist_context[i], descritization_policy, equal_distance=True)\n",
    "    dist_context[i]['configs'] = gen_config_reward(dist_context[i], param_list)\n",
    "    \n",
    "    # [4] Reward formula\n",
    "    reward_formula = param_list + ['{0}{1}'.format(param_list[x[0]], param_list[x[1]]) for x in inter_terms]\n",
    "    dist_context[i]['configs']['reward_equation'] = formulate_equation(reward_formula, coefficients)\n",
    "    dist_context[i]['configs']['config_rterms'] = add_interactions(dist_context[i]['configs']['config_rterms'], inter_terms)\n",
    "    display(Markdown('* {0}'.format(dist_context[i]['configs']['reward_equation'])))\n",
    "    \n",
    "    # [5] Generate data\n",
    "    num_values = gen_data(dist_context[i], n_per_config, ci_dist, coefficients, reward_range)\n",
    "    dist_context[i]['configs']['config_reward'] = np.array([x[-1] for x in num_values])\n",
    "    c_data = [c + list(x) for x in num_values]\n",
    "    data = data + c_data\n",
    "    \n",
    "    # [6] Plot 2D\n",
    "#     plot_data = pd.DataFrame(num_values, columns=param_list + ['reward'])\n",
    "#     plot_2d_paris(plot_data, param_list, inter_terms, round_to=0.05)\n",
    "            \n",
    "    # [7] To file\n",
    "    df_context = pd.DataFrame(c_data, columns=df_cols)\n",
    "    df_context = df_context.sample(frac=1)\n",
    "    df_all = df_all.append(df_context)\n",
    "    \n",
    "    # [8] Summary\n",
    "    df_mean = summarize_df(df_context, param_list, c)\n",
    "    df_summary = df_summary.append(df_mean)"
   ]
  },
  {
   "cell_type": "code",
   "execution_count": 28,
   "metadata": {},
   "outputs": [],
   "source": [
    "# Save summary file\n",
    "df_summary.to_csv(summary_file_path, index=False)"
   ]
  },
  {
   "cell_type": "code",
   "execution_count": 35,
   "metadata": {},
   "outputs": [],
   "source": [
    "all_file_path = os.path.join(folder_path, 'simulation_data_scaledto1.csv')\n",
    "df_all.to_csv(all_file_path, index=False)"
   ]
  },
  {
   "cell_type": "code",
   "execution_count": 19,
   "metadata": {},
   "outputs": [
    {
     "data": {
      "text/plain": [
       "987     0.814612\n",
       "33     -0.625807\n",
       "1261   -0.545377\n",
       "2914   -0.344779\n",
       "8       0.023055\n",
       "          ...   \n",
       "2744   -0.147870\n",
       "3761   -0.583565\n",
       "3347   -0.711774\n",
       "1681    0.860755\n",
       "3129   -0.181565\n",
       "Name: reward, Length: 30710, dtype: float64"
      ]
     },
     "execution_count": 19,
     "metadata": {},
     "output_type": "execute_result"
    }
   ],
   "source": []
  },
  {
   "cell_type": "code",
   "execution_count": null,
   "metadata": {},
   "outputs": [],
   "source": []
  }
 ],
 "metadata": {
  "kernelspec": {
   "display_name": "Python 3",
   "language": "python",
   "name": "python3"
  },
  "language_info": {
   "codemirror_mode": {
    "name": "ipython",
    "version": 3
   },
   "file_extension": ".py",
   "mimetype": "text/x-python",
   "name": "python",
   "nbconvert_exporter": "python",
   "pygments_lexer": "ipython3",
   "version": "3.7.4"
  }
 },
 "nbformat": 4,
 "nbformat_minor": 2
}
