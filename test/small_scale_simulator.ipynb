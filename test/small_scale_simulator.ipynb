{
 "cells": [
  {
   "cell_type": "code",
   "execution_count": null,
   "metadata": {},
   "outputs": [],
   "source": [
    "import pandas as pd\n",
    "import numpy as np\n",
    "from vowpalwabbit import pyvw\n",
    "import matplotlib.pyplot as plt\n",
    "import math\n",
    "import slates\n",
    "%matplotlib inline"
   ]
  },
  {
   "cell_type": "code",
   "execution_count": null,
   "metadata": {},
   "outputs": [],
   "source": [
    "actions = [list(range(10)),list(range(10))]\n",
    "slate_action_sets = [[\"x=\"+str(i) for i in actions[0]],[\"y=\"+str(i) for i in actions[1]]]\n",
    "cb_action_set = slates.combine(actions, [\"x\", \"y\"])\n",
    "print(len(cb_action_set))\n",
    "\n",
    "slate_args = \"--ccb_explore_adf --cb_type ips --power_t 0 -l 0.000001 --slate --quiet --epsilon 0.2 --interactions :: UAS\"\n",
    "cb_args = \"--cb_explore_adf --cb_type ips --power_t 0 -l 0.000001 --quiet --epsilon 0.2 --interactions ::\""
   ]
  },
  {
   "cell_type": "code",
   "execution_count": null,
   "metadata": {},
   "outputs": [],
   "source": [
    "NUM_ITER = 10000\n",
    "NUM_ROUNDS = 10\n",
    "EXAMPLES_IN_EACH_CHECKPOINT=100"
   ]
  },
  {
   "cell_type": "code",
   "execution_count": null,
   "metadata": {},
   "outputs": [],
   "source": [
    "outcomes = dict()"
   ]
  },
  {
   "cell_type": "code",
   "execution_count": null,
   "metadata": {},
   "outputs": [],
   "source": [
    "def cost_func_slates(prediction):\n",
    "    if prediction[0][0][0] == 3 and prediction[1][0][0] == 3:\n",
    "        return -1\n",
    "    else:\n",
    "        return 1\n",
    "    \n",
    "def cost_func_cb(chosen_action):\n",
    "    if chosen_action == \"x=3 y=3\":\n",
    "        return -1\n",
    "    else:\n",
    "        return 1"
   ]
  },
  {
   "cell_type": "markdown",
   "execution_count": null,
   "metadata": {},
   "outputs": [],
   "source": [
    "# Slates"
   ]
  },
  {
   "cell_type": "code",
   "execution_count": null,
   "metadata": {
    "scrolled": true
   },
   "outputs": [],
   "source": [
    "from collections import defaultdict\n",
    "\n",
    "cost_dicts = defaultdict(list)\n",
    "current_cost_dict = defaultdict(int)\n",
    "\n",
    "for num in range(NUM_ROUNDS):\n",
    "    print('Iter:',num)\n",
    "    model = pyvw.vw(slate_args)\n",
    "    slates_outcomes = []\n",
    "    cost_dict = defaultdict(int)\n",
    "    for i in range(1,1+NUM_ITER):\n",
    "        shared_context = \"constant\"\n",
    "        examples = slates.create_slates_example(model, shared_context, slate_action_sets)\n",
    "#         print(\"\\n\".join(examples))\n",
    "#         break\n",
    "        pred = slates.slate_pred_conv(model.predict(examples, prediction_type=pyvw.pylibvw.vw.pDECISION_SCORES))\n",
    "        model.finish_example(examples)\n",
    "\n",
    "        # Choose the slot to sample\n",
    "        chosen_slot = np.random.choice(len(pred))\n",
    "        slot_to_sample = pred[chosen_slot]\n",
    "        # Sample an index from this slot\n",
    "        index = slates.sample_index(slot_to_sample)\n",
    "        # Swap sampled action if it was not the 0th item.\n",
    "        if index != 0:\n",
    "            slot_to_sample[0], slot_to_sample[index] = slot_to_sample[index], slot_to_sample[0]\n",
    "        # Assign the potentially modified slot back into the prediction\n",
    "        pred[chosen_slot] = slot_to_sample\n",
    "\n",
    "        cost = cost_func_slates(pred)\n",
    "        x_outcome = (pred[0][0][0], cost, pred[0][0][1])\n",
    "        y_outcome = (pred[0][0][0], cost, pred[1][0][1])\n",
    "        if(pred[0][0][1] > 0.5 and pred[1][0][1] > 0.5):\n",
    "            slates_outcomes.append((x_outcome, y_outcome))\n",
    "\n",
    "        current_cost_dict[cost] += 1\n",
    "        if i % EXAMPLES_IN_EACH_CHECKPOINT == 0:\n",
    "            print(i, current_cost_dict)\n",
    "            cost_dicts[i].append(current_cost_dict[-1])\n",
    "            current_cost_dict = defaultdict(int)\n",
    "\n",
    "        examples = slates.create_slates_example(model, shared_context, slate_action_sets,  [x_outcome,y_outcome])\n",
    "        model.learn(examples)\n",
    "        model.finish_example(examples)\n",
    "\n",
    "outcomes[slate_args] = cost_dicts"
   ]
  },
  {
   "cell_type": "markdown",
   "execution_count": null,
   "metadata": {},
   "outputs": [],
   "source": [
    "# Combinatorial CB"
   ]
  },
  {
   "cell_type": "code",
   "execution_count": null,
   "metadata": {
    "scrolled": true
   },
   "outputs": [],
   "source": [
    "from collections import defaultdict\n",
    "\n",
    "cost_dicts = defaultdict(list)\n",
    "current_cost_dict = defaultdict(int)\n",
    "\n",
    "for num in range(NUM_ROUNDS):\n",
    "    \n",
    "    print('Iter:',num)\n",
    "    cb_model = pyvw.vw(cb_args)\n",
    "    # --interactions UUU AAA UUA AAU UUUA UUUAA UUUAAA\"\n",
    "\n",
    "    cb_outcomes = []\n",
    "    current_cost_dict = defaultdict(int)\n",
    "\n",
    "    for i in range(1,1 + NUM_ITER):\n",
    "        shared_context = \"constant\"\n",
    "        examples = slates.create_cb_example(cb_model, shared_context, cb_action_set)   \n",
    "        pred = cb_model.predict(examples, prediction_type=pyvw.pylibvw.vw.pACTION_SCORES)\n",
    "        cb_model.finish_example(examples)\n",
    "\n",
    "        # Sample\n",
    "        chosen_action_index = np.random.choice(len(pred), p=slates.normalize(pred))\n",
    "        cost = cost_func_cb(cb_action_set[chosen_action_index])\n",
    "        chosen_pred = pred[chosen_action_index]\n",
    "\n",
    "        outcome = (chosen_action_index, cost, chosen_pred)\n",
    "        current_cost_dict[cost] += 1\n",
    "        if(chosen_pred > 0.5):\n",
    "            cb_outcomes.append(outcome)\n",
    "        if i % EXAMPLES_IN_EACH_CHECKPOINT == 0:\n",
    "            print(i, current_cost_dict)\n",
    "            cost_dicts[i].append(current_cost_dict[-1])\n",
    "            current_cost_dict = defaultdict(int)       \n",
    "                        \n",
    "        examples = slates.create_cb_example(cb_model, shared_context, cb_action_set, outcome=outcome)\n",
    "        cb_model.learn(examples)\n",
    "        cb_model.finish_example(examples)\n",
    "outcomes[cb_args] = cost_dicts"
   ]
  },
  {
   "cell_type": "code",
   "execution_count": null,
   "metadata": {},
   "outputs": [],
   "source": [
    "plt.figure(figsize=(20, 8))\n",
    "number_of_samples = max(len(cb_outcomes), len(slates_outcomes))\n",
    "plt.plot(pd.Series([cost for ((idx,cost,prob),(_,_,_)) in slates_outcomes]).rolling(100, min_periods=0).mean(), label=\"slate\")\n",
    "plt.plot(pd.Series([cost for (idx,cost,prob) in cb_outcomes]).rolling(100, min_periods=0).mean(), label=\"combinatorial\")\n",
    "\n",
    "plt.ylabel(\"Cost\")\n",
    "# Plot optimal policy by sampling optimal policy number_of_samples times\n",
    "optimal_policy_results = [-1 for i in range(number_of_samples)]\n",
    "plt.plot(pd.Series(optimal_policy_results).rolling(5, min_periods=0).mean(), color='b', linestyle=':', label=\"best\")\n",
    "\n",
    "plt.legend(loc=\"upper right\")\n",
    "plt.show()"
   ]
  },
  {
   "cell_type": "code",
   "execution_count": null,
   "metadata": {
    "scrolled": false
   },
   "outputs": [],
   "source": [
    "plt.figure(figsize=(20, 10))\n",
    "for args,results in outcomes.items():\n",
    "    x = [x for x, y_list in results.items()]\n",
    "    y = [np.average(y_list)/EXAMPLES_IN_EACH_CHECKPOINT for x, y_list in results.items()]\n",
    "    error = [np.std(y_list)/EXAMPLES_IN_EACH_CHECKPOINT for x, y_list in results.items()]\n",
    "    \n",
    "    plt.ylim(top=1.1)\n",
    "\n",
    "    plt.errorbar(x=x,y=y,yerr=error,label=args)\n",
    "    plt.xticks(np.arange(min(x), max(x)+1, EXAMPLES_IN_EACH_CHECKPOINT*10))\n",
    "   \n",
    "plt.plot(list(range(100,10000)),[0.8 for i in range(100,10000)], color='b', linestyle=':')\n",
    "plt.legend(loc=\"upper right\")\n",
    "plt.ylabel(\"Proportion of right actions chosen in last {} examples\".format(EXAMPLES_IN_EACH_CHECKPOINT))\n",
    "plt.xlabel(\"Number of examples trained\")\n",
    "plt.savefig('plot.svg', bbox_inches='tight')\n",
    "plt.show()"
   ]
  },
  {
   "cell_type": "code",
   "execution_count": null,
   "metadata": {},
   "outputs": [],
   "source": []
  },
  {
   "cell_type": "code",
   "execution_count": null,
   "metadata": {},
   "outputs": [],
   "source": []
  }
 ],
 "metadata": {
  "kernelspec": {
   "display_name": "Python 3",
   "language": "python",
   "name": "python3"
  },
  "language_info": {
   "codemirror_mode": {
    "name": "ipython",
    "version": 3
   },
   "file_extension": ".py",
   "mimetype": "text/x-python",
   "name": "python",
   "nbconvert_exporter": "python",
   "pygments_lexer": "ipython3",
   "version": "3.6.9"
  }
 },
 "nbformat": 4,
 "nbformat_minor": 2
}