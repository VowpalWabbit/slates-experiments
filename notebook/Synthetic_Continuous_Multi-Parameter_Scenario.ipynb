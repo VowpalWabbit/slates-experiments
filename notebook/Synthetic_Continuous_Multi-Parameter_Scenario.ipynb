{
 "cells": [
  {
   "cell_type": "code",
   "execution_count": 1,
   "metadata": {},
   "outputs": [],
   "source": [
    "import os\n",
    "import itertools\n",
    "import pandas as pd\n",
    "import numpy as np\n",
    "from IPython.display import Markdown, display\n",
    "from simulator_utilities import *\n",
    "np.random.seed(7)"
   ]
  },
  {
   "cell_type": "code",
   "execution_count": 7,
   "metadata": {},
   "outputs": [
    {
     "name": "stdout",
     "output_type": "stream",
     "text": [
      "Data Size per Configuration: 20\n",
      "Data Size per Context: 3,840\n",
      "Total Data Size: 30,720\n"
     ]
    }
   ],
   "source": [
    "# ========================\n",
    "# Preparation\n",
    "# ========================\n",
    "# Output\n",
    "folder_path = r'/mnt/c/w/repos/slate_sim/notebook/data/less_random_only_reverse'\n",
    "summary_file_path = os.path.join(folder_path, 'simulation_data_summary.csv')\n",
    "context_file_path = os.path.join(folder_path, 'simulation_data_{0}.csv')\n",
    "\n",
    "# Contexts \n",
    "contexts = {'platform': ['Mac', 'Windows'], \n",
    "            'network': ['wifi', 'wired'], \n",
    "            'country': ['US', 'CA']}\n",
    "unique_contexts = [list(x) for x in itertools.product(*contexts.values())]\n",
    "\n",
    "# Parameter statistics\n",
    "params = {\n",
    "          'x': {'mean': 1, 'min': 0, 'max': 4, 'std_range': [0.1, 1.1]},\n",
    "          'y': {'mean': 1, 'min': 0, 'max': 3, 'std_range': [0.1, 1.1]}, \n",
    "          'z': {'mean': 1, 'min': 0, 'max': 2, 'std_range': [0.1, 1.1]}\n",
    "         }\n",
    "\n",
    "# Initialization\n",
    "data = []\n",
    "dist_context = {}\n",
    "reward_range = [0.05, 0.35]\n",
    "coefficient_range = [0.1, 1]\n",
    "interaction2 = True\n",
    "known_n = 20\n",
    "descritization_policy = {'x': 8, 'y': 6, 'z': 4}\n",
    "share_descritized_grid = True\n",
    "\n",
    "# Confidence Interval statistics\n",
    "ci_mean = 0\n",
    "ci_std = 0.01\n",
    "ci_dist = gen_distribution('normal', ci_mean, ci_std, 5000)[0]\n",
    "\n",
    "# N for each unique context\n",
    "if known_n:\n",
    "    n_per_config = known_n\n",
    "else:\n",
    "    ci_width = 0.002\n",
    "    ci_mult = 1.96\n",
    "    n_per_config = int(((ci_mult*ci_std/(ci_width/2))**2//100+1)*100)\n",
    "n_per_context = np.prod([x if isinstance(x, int) else len(x)for x in descritization_policy.values()]) * n_per_config\n",
    "print('Data Size per Configuration: {:,}'.format(n_per_config))\n",
    "print('Data Size per Context: {:,}'.format(n_per_context))\n",
    "print('Total Data Size: {:,}'.format(n_per_context*len(unique_contexts)))"
   ]
  },
  {
   "cell_type": "code",
   "execution_count": null,
   "metadata": {},
   "outputs": [],
   "source": [
    "# all_gamma_params = []"
   ]
  },
  {
   "cell_type": "code",
   "execution_count": null,
   "metadata": {},
   "outputs": [],
   "source": []
  },
  {
   "cell_type": "code",
   "execution_count": 8,
   "metadata": {},
   "outputs": [],
   "source": [
    "# ========================\n",
    "# Generate data\n",
    "# ========================\n",
    "param_list = list(params.keys())\n",
    "df_cols = list(contexts.keys()) + param_list + ['reward']\n",
    "plot_pairs = [x for x in itertools.combinations(range(len(param_list)), 2)]\n",
    "df_summary = pd.DataFrame()\n",
    "df_all = pd.DataFrame()\n",
    "coeff_all = [[0.12019595, 0.63518419, 0.96830226, 0.17708101, 0.18345325,0.8002412 ],\n",
    "    [0.71518135, 0.18591909, 0.71323735, 0.47473797, 0.7525629 ,0.84263121],\n",
    "    [0.90204983, 0.59199671, 0.33160712, 0.52421906, 0.65463157,0.37078185],\n",
    "    [0.63522404, 0.33039906, 0.79644431, 0.94571491, 0.39494207, 0.12283538],\n",
    "    [0.66273394, 0.22264627, 0.46584369, 0.41080309, 0.53285229,0.52803675],\n",
    "    [0.82335403, 0.73190862, 0.26517287, 0.22790234, 0.61333563, 0.81023372],\n",
    "    [0.15385043, 0.41863797, 0.15437206, 0.94464021, 0.12960767,0.567603  ],\n",
    "    [0.73596655, 0.21766755, 0.43232531, 0.91792597, 0.63940162,0.80277422]]\n",
    "\n",
    "if share_descritized_grid:\n",
    "    for k, v in descritization_policy.items():\n",
    "        if isinstance(v, int):\n",
    "            descritization_policy[k] = [round(x,4) for x in np.linspace(params[k]['min'], params[k]['max'], v)]\n",
    "            \n",
    "for run in np.arange(50):\n",
    "    for i, c in enumerate(unique_contexts):\n",
    "\n",
    "        #display(Markdown('**[{0}/{1}] Generating data for context {2} ...**'.format(i+1, len(unique_contexts), c)))\n",
    "\n",
    "        # [1] Generate Distributions\n",
    "        n_dist = 5000\n",
    "        dist_context[i], gamma_params = gen_param_reward(params, reward_range, n_dist)\n",
    "        \n",
    "#         saved_gamma_param = all_gamma_params[i]   # <--------- \n",
    "#         saved_gamma_param = None                # <--------- f\n",
    "#         dist_context[i], gamma_params = gen_param_reward(params, reward_range, n_dist, saved_gamma_param)\n",
    "#         all_gamma_params.append(gamma_params)   # <--------- f\n",
    "        #plot_1d_param_reward(dist_context[i])\n",
    "\n",
    "        # [2] Coefficients\n",
    "        if interaction2:\n",
    "            inter_terms = [x for x in itertools.combinations(range(len(param_list)), 2)]\n",
    "        else:\n",
    "            inter_terms = []\n",
    "        n_coef = len(param_list) + len(inter_terms)\n",
    "        #coefficients = np.random.uniform(coefficient_range[0], coefficient_range[1], n_coef)\n",
    "        #coeff_all.append(coefficients)\n",
    "        coefficients = coeff_all[i]\n",
    "\n",
    "        # [3] Discretize parameter\n",
    "        discretize_parameters(dist_context[i], descritization_policy, equal_distance=True)\n",
    "        dist_context[i]['configs'] = gen_config_reward(dist_context[i], param_list)\n",
    "\n",
    "        # [4] Reward formula\n",
    "        reward_formula = param_list + ['{0}{1}'.format(param_list[x[0]], param_list[x[1]]) for x in inter_terms]\n",
    "        dist_context[i]['configs']['reward_equation'] = formulate_equation(reward_formula, coefficients)\n",
    "        dist_context[i]['configs']['config_rterms'] = add_interactions(dist_context[i]['configs']['config_rterms'], inter_terms)\n",
    "        #display(Markdown('* {0}'.format(dist_context[i]['configs']['reward_equation'])))\n",
    "\n",
    "        # [5] Generate data\n",
    "        num_values = gen_data(dist_context[i], n_per_config, ci_dist, coefficients, reward_range)\n",
    "        dist_context[i]['configs']['config_reward'] = np.array([x[-1] for x in num_values])\n",
    "        c_data = [c + list(x) for x in num_values]\n",
    "        data = data + c_data\n",
    "\n",
    "        # [6] Plot 2D\n",
    "        #plot_data = pd.DataFrame(num_values, columns=param_list + ['reward'])\n",
    "        #plot_2d_paris(plot_data, param_list, inter_terms, round_to=0.05)\n",
    "\n",
    "        # [7] To file\n",
    "        df_context = pd.DataFrame(c_data, columns=df_cols)\n",
    "        df_context = df_context.sample(frac=1)\n",
    "        df_context['run'] = run\n",
    "    #     df_context.to_csv(context_file_path.format(c), index=False)\n",
    "        df_all = df_all.append(df_context)\n",
    "\n",
    "        # [8] Summary\n",
    "        df_mean = summarize_df(df_context, param_list, c)\n",
    "        df_summary = df_summary.append(df_mean)"
   ]
  },
  {
   "cell_type": "code",
   "execution_count": 9,
   "metadata": {},
   "outputs": [
    {
     "data": {
      "text/plain": [
       "array([ 0,  1,  2,  3,  4,  5,  6,  7,  8,  9, 10, 11, 12, 13, 14, 15, 16,\n",
       "       17, 18, 19, 20, 21, 22, 23, 24, 25, 26, 27, 28, 29, 30, 31, 32, 33,\n",
       "       34, 35, 36, 37, 38, 39, 40, 41, 42, 43, 44, 45, 46, 47, 48, 49])"
      ]
     },
     "execution_count": 9,
     "metadata": {},
     "output_type": "execute_result"
    }
   ],
   "source": [
    "df_all.run.unique()"
   ]
  },
  {
   "cell_type": "code",
   "execution_count": 10,
   "metadata": {},
   "outputs": [],
   "source": [
    "out_path = os.path.join(folder_path, \"df_all_8_6_4_50runs.csv\")\n",
    "df_all.to_csv(out_path)"
   ]
  },
  {
   "cell_type": "code",
   "execution_count": null,
   "metadata": {},
   "outputs": [],
   "source": [
    "coeff_all"
   ]
  },
  {
   "cell_type": "code",
   "execution_count": null,
   "metadata": {},
   "outputs": [],
   "source": [
    "coeff_all"
   ]
  },
  {
   "cell_type": "code",
   "execution_count": null,
   "metadata": {},
   "outputs": [],
   "source": [
    "# 4-3-2 ground truth\n",
    "min_actions = {}\n",
    "min_reward = {}\n",
    "grps_run = df_all.groupby(['run'])\n",
    "for run in grps_run.groups.keys():\n",
    "    df_temp = grps_run.get_group(run)\n",
    "    grps = df_temp.groupby(['platform', 'network', 'country'])\n",
    "    for grp in grps.groups.keys():\n",
    "        if grp not in min_actions.keys():\n",
    "            min_actions[grp] = {}\n",
    "            min_reward[grp] = []\n",
    "        temp_grp = grps.get_group(grp)\n",
    "        temp_min = temp_grp['reward'].min()\n",
    "        for action in ['x', 'y', 'z']:\n",
    "            if action not in min_actions[grp].keys():\n",
    "                min_actions[grp][action] = []\n",
    "        min_actions[grp]['x'].append(df_temp[df_temp['reward'] == temp_min][['x','y','z']].drop_duplicates().values[:,0])\n",
    "        min_actions[grp]['y'].append(df_temp[df_temp['reward'] == temp_min][['x','y','z']].drop_duplicates().values[:,1])\n",
    "        min_actions[grp]['z'].append(df_temp[df_temp['reward'] == temp_min][['x','y','z']].drop_duplicates().values[:,2])\n",
    "        min_reward[grp].append(temp_min)\n",
    "        print(grp, temp_min, df_temp[df_temp['reward'] == temp_min][['x','y','z']].drop_duplicates().values)"
   ]
  },
  {
   "cell_type": "code",
   "execution_count": null,
   "metadata": {},
   "outputs": [],
   "source": [
    "for key in min_actions.keys():\n",
    "    print(key)\n",
    "    print(np.mean(min_actions[key]['x']))\n",
    "    print(np.mean(min_actions[key]['y']))\n",
    "    print(np.mean(min_actions[key]['z']))"
   ]
  },
  {
   "cell_type": "code",
   "execution_count": null,
   "metadata": {},
   "outputs": [],
   "source": [
    "min_reward"
   ]
  },
  {
   "cell_type": "code",
   "execution_count": null,
   "metadata": {},
   "outputs": [],
   "source": []
  },
  {
   "cell_type": "code",
   "execution_count": null,
   "metadata": {},
   "outputs": [],
   "source": []
  }
 ],
 "metadata": {
  "kernelspec": {
   "display_name": "py_36_env",
   "language": "python",
   "name": "py_36_env"
  },
  "language_info": {
   "codemirror_mode": {
    "name": "ipython",
    "version": 3
   },
   "file_extension": ".py",
   "mimetype": "text/x-python",
   "name": "python",
   "nbconvert_exporter": "python",
   "pygments_lexer": "ipython3",
   "version": "3.6.7"
  }
 },
 "nbformat": 4,
 "nbformat_minor": 2
}
