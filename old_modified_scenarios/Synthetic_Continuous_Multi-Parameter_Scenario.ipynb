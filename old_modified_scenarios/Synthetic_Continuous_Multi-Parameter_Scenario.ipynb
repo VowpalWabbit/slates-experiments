{
 "cells": [
  {
   "cell_type": "code",
   "execution_count": 1,
   "metadata": {},
   "outputs": [],
   "source": [
    "import os\n",
    "import itertools\n",
    "import pandas as pd\n",
    "import numpy as np\n",
    "from IPython.display import Markdown, display\n",
    "from simulator_utilities import *\n",
    "np.random.seed(7)"
   ]
  },
  {
   "cell_type": "code",
   "execution_count": 2,
   "metadata": {},
   "outputs": [
    {
     "name": "stdout",
     "output_type": "stream",
     "text": [
      "Data Size per Configuration: 20\n",
      "Data Size per Context: 480\n",
      "Total Data Size: 3,840\n"
     ]
    }
   ],
   "source": [
    "# ========================\n",
    "# Preparation\n",
    "# ========================\n",
    "# Output\n",
    "folder_path = r'/mnt/c/w/repos/slate_sim/notebook/data/single_gamma'\n",
    "summary_file_path = os.path.join(folder_path, 'simulation_data_summary.csv')\n",
    "context_file_path = os.path.join(folder_path, 'simulation_data_{0}.csv')\n",
    "\n",
    "# Contexts \n",
    "contexts = {'platform': ['Mac', 'Windows'], \n",
    "            'network': ['wifi', 'wired'], \n",
    "            'country': ['US', 'CA']}\n",
    "unique_contexts = [list(x) for x in itertools.product(*contexts.values())]\n",
    "\n",
    "# Parameter statistics\n",
    "params = {\n",
    "          'x': {'mean': 1, 'min': 0, 'max': 4, 'std_range': [0.1, 1.1]},\n",
    "          'y': {'mean': 1, 'min': 0, 'max': 3, 'std_range': [0.1, 1.1]}, \n",
    "          'z': {'mean': 1, 'min': 0, 'max': 2, 'std_range': [0.1, 1.1]}\n",
    "         }\n",
    "\n",
    "# Initialization\n",
    "data = []\n",
    "dist_context = {}\n",
    "reward_range = [0.05, 0.35]\n",
    "coefficient_range = [0.1, 1]\n",
    "interaction2 = True\n",
    "known_n = 20\n",
    "descritization_policy = {'x': 4, 'y': 3, 'z': 2}\n",
    "share_descritized_grid = True\n",
    "\n",
    "# Confidence Interval statistics\n",
    "ci_mean = 0\n",
    "ci_std = 0.01\n",
    "ci_dist = gen_distribution('normal', ci_mean, ci_std, 5000)[0]\n",
    "\n",
    "# N for each unique context\n",
    "if known_n:\n",
    "    n_per_config = known_n\n",
    "else:\n",
    "    ci_width = 0.002\n",
    "    ci_mult = 1.96\n",
    "    n_per_config = int(((ci_mult*ci_std/(ci_width/2))**2//100+1)*100)\n",
    "n_per_context = np.prod([x if isinstance(x, int) else len(x)for x in descritization_policy.values()]) * n_per_config\n",
    "print('Data Size per Configuration: {:,}'.format(n_per_config))\n",
    "print('Data Size per Context: {:,}'.format(n_per_context))\n",
    "print('Total Data Size: {:,}'.format(n_per_context*len(unique_contexts)))"
   ]
  },
  {
   "cell_type": "code",
   "execution_count": null,
   "metadata": {},
   "outputs": [],
   "source": [
    "# all_gamma_params = []"
   ]
  },
  {
   "cell_type": "code",
   "execution_count": null,
   "metadata": {},
   "outputs": [],
   "source": []
  },
  {
   "cell_type": "code",
   "execution_count": 6,
   "metadata": {},
   "outputs": [
    {
     "name": "stdout",
     "output_type": "stream",
     "text": [
      "{'raw': array([1.44573175, 1.0221699 , 1.25747471, ..., 0.98263282, 0.9681965 ,\n",
      "       0.87429107]), 'tick': array([0.60608112, 0.60676004, 0.60743896, ..., 3.99864216, 3.99932108,\n",
      "       4.        ]), 'pdf': array([0.34942397, 0.34940837, 0.3493924 , ..., 0.35      , 0.35      ,\n",
      "       0.35      ])}\n",
      "{'raw': array([1.03907553, 1.04653148, 1.01195961, ..., 1.24221763, 0.99937709,\n",
      "       0.93718984]), 'tick': array([0.25651953, 0.25726838, 0.25801722, ..., 3.99850231, 3.99925115,\n",
      "       4.        ]), 'pdf': array([0.34944973, 0.34943646, 0.34942292, ..., 0.35      , 0.35      ,\n",
      "       0.35      ])}\n",
      "{'raw': array([1.07908174, 1.231582  , 1.1300331 , ..., 0.7912704 , 1.18290936,\n",
      "       1.12114329]), 'tick': array([0.36694195, 0.36766871, 0.36839547, ..., 3.99854649, 3.99927324,\n",
      "       4.        ]), 'pdf': array([0.34978737, 0.34978179, 0.34977608, ..., 0.35      , 0.35      ,\n",
      "       0.35      ])}\n",
      "{'raw': array([0.71580261, 0.80663552, 1.52758713, ..., 0.75704773, 0.7226937 ,\n",
      "       1.33177252]), 'tick': array([0.21787553, 0.21863211, 0.21938869, ..., 3.99848685, 3.99924342,\n",
      "       4.        ]), 'pdf': array([0.34840008, 0.3483661 , 0.34833156, ..., 0.35      , 0.35      ,\n",
      "       0.35      ])}\n",
      "{'raw': array([2.13183028, 0.73602063, 0.95034582, ..., 0.85640771, 0.2281696 ,\n",
      "       0.77237782]), 'tick': array([0.02400742, 0.02480278, 0.02559814, ..., 3.99840928, 3.99920464,\n",
      "       4.        ]), 'pdf': array([0.34077902, 0.34028672, 0.33978821, ..., 0.34999641, 0.34999821,\n",
      "       0.35      ])}\n",
      "{'raw': array([0.71923558, 0.81114472, 1.16117877, ..., 0.58090221, 0.5442519 ,\n",
      "       1.04339384]), 'tick': array([0.0508398 , 0.05162979, 0.05241978, ..., 3.99842002, 3.99921001,\n",
      "       4.        ]), 'pdf': array([0.34702347, 0.34690186, 0.34677767, ..., 0.34999914, 0.34999957,\n",
      "       0.35      ])}\n",
      "{'raw': array([0.66054492, 0.37825571, 0.96368949, ..., 1.05814625, 0.92036387,\n",
      "       1.65232883]), 'tick': array([4.31363115e-04, 1.23143686e-03, 2.03151060e-03, ...,\n",
      "       3.99839985e+00, 3.99919993e+00, 4.00000000e+00]), 'pdf': array([0.28146562, 0.25710772, 0.24286287, ..., 0.34998942, 0.34999471,\n",
      "       0.35      ])}\n",
      "{'raw': array([2.06664568, 0.5914731 , 0.46472593, ..., 1.14928868, 2.80144235,\n",
      "       1.20166312]), 'tick': array([3.14451767e-04, 1.11454890e-03, 1.91464603e-03, ...,\n",
      "       3.99839981e+00, 3.99919990e+00, 4.00000000e+00]), 'pdf': array([0.08514839, 0.07366197, 0.06873874, ..., 0.34999022, 0.34999511,\n",
      "       0.35      ])}\n"
     ]
    }
   ],
   "source": [
    "# ========================\n",
    "# Generate data\n",
    "# ========================\n",
    "param_list = list(params.keys())\n",
    "df_cols = list(contexts.keys()) + param_list + ['reward']\n",
    "plot_pairs = [x for x in itertools.combinations(range(len(param_list)), 2)]\n",
    "df_summary = pd.DataFrame()\n",
    "df_all = pd.DataFrame()\n",
    "coeff_all = [[0.12019595, 0.63518419, 0.96830226, 0.17708101, 0.18345325,0.8002412 ],\n",
    "    [0.71518135, 0.18591909, 0.71323735, 0.47473797, 0.7525629 ,0.84263121],\n",
    "    [0.90204983, 0.59199671, 0.33160712, 0.52421906, 0.65463157,0.37078185],\n",
    "    [0.63522404, 0.33039906, 0.79644431, 0.94571491, 0.39494207, 0.12283538],\n",
    "    [0.66273394, 0.22264627, 0.46584369, 0.41080309, 0.53285229,0.52803675],\n",
    "    [0.82335403, 0.73190862, 0.26517287, 0.22790234, 0.61333563, 0.81023372],\n",
    "    [0.15385043, 0.41863797, 0.15437206, 0.94464021, 0.12960767,0.567603  ],\n",
    "    [0.73596655, 0.21766755, 0.43232531, 0.91792597, 0.63940162,0.80277422]]\n",
    "\n",
    "gamma_param_all = [[0.12581686354841784, 0.9587723672104524, 0.5892252321817967],\n",
    "[0.28456932884715136, 0.5794502415871884, 0.9530046583259941],\n",
    "[0.21186398865555958, 0.8676770694338504, 0.7956440151232661],\n",
    "[0.3327167704629427, 0.8020849264958928, 0.3534171495668579],\n",
    "[0.6329803095169089, 0.8613506489399466, 0.5079810486234102],\n",
    "[0.5244209894315414, 0.7256607308940456, 1.0952626583098724],\n",
    "[0.8866024334344276, 0.2883860159703292, 0.7626985026756992],\n",
    "[0.983667875614948, 0.20293592013287434, 0.12741018214844926]\n",
    "]\n",
    "\n",
    "if share_descritized_grid:\n",
    "    for k, v in descritization_policy.items():\n",
    "        if isinstance(v, int):\n",
    "            descritization_policy[k] = [round(x,4) for x in np.linspace(params[k]['min'], params[k]['max'], v)]\n",
    "            \n",
    "for run in np.arange(1):\n",
    "    for i, c in enumerate(unique_contexts):\n",
    "\n",
    "        #display(Markdown('**[{0}/{1}] Generating data for context {2} ...**'.format(i+1, len(unique_contexts), c)))\n",
    "\n",
    "        # [1] Generate Distributions\n",
    "        n_dist = 5000\n",
    "        dist_context[i], gamma_params = gen_param_reward(params, reward_range, n_dist, gamma_param_all[i])\n",
    "        print(dist_context[i][\"x\"])\n",
    "#         print(gamma_params)\n",
    "        \n",
    "#         saved_gamma_param = all_gamma_params[i]   # <--------- \n",
    "#         saved_gamma_param = None                # <--------- f\n",
    "#         dist_context[i], gamma_params = gen_param_reward(params, reward_range, n_dist, saved_gamma_param)\n",
    "#         all_gamma_params.append(gamma_params)   # <--------- f\n",
    "        #plot_1d_param_reward(dist_context[i])\n",
    "\n",
    "        # [2] Coefficients\n",
    "        if interaction2:\n",
    "            inter_terms = [x for x in itertools.combinations(range(len(param_list)), 2)]\n",
    "        else:\n",
    "            inter_terms = []\n",
    "        n_coef = len(param_list) + len(inter_terms)\n",
    "        #coefficients = np.random.uniform(coefficient_range[0], coefficient_range[1], n_coef)\n",
    "        #coeff_all.append(coefficients)\n",
    "        coefficients = coeff_all[i]\n",
    "\n",
    "        # [3] Discretize parameter\n",
    "        discretize_parameters(dist_context[i], descritization_policy, equal_distance=True)\n",
    "        dist_context[i]['configs'] = gen_config_reward(dist_context[i], param_list)\n",
    "\n",
    "        # [4] Reward formula\n",
    "        reward_formula = param_list + ['{0}{1}'.format(param_list[x[0]], param_list[x[1]]) for x in inter_terms]\n",
    "        dist_context[i]['configs']['reward_equation'] = formulate_equation(reward_formula, coefficients)\n",
    "        dist_context[i]['configs']['config_rterms'] = add_interactions(dist_context[i]['configs']['config_rterms'], inter_terms)\n",
    "        #display(Markdown('* {0}'.format(dist_context[i]['configs']['reward_equation'])))\n",
    "\n",
    "        # [5] Generate data\n",
    "        num_values = gen_data(dist_context[i], n_per_config, ci_dist, coefficients, reward_range)\n",
    "        dist_context[i]['configs']['config_reward'] = np.array([x[-1] for x in num_values])\n",
    "        c_data = [c + list(x) for x in num_values]\n",
    "        data = data + c_data\n",
    "\n",
    "        # [6] Plot 2D\n",
    "        #plot_data = pd.DataFrame(num_values, columns=param_list + ['reward'])\n",
    "        #plot_2d_paris(plot_data, param_list, inter_terms, round_to=0.05)\n",
    "\n",
    "        # [7] To file\n",
    "        df_context = pd.DataFrame(c_data, columns=df_cols)\n",
    "        df_context = df_context.sample(frac=1)\n",
    "        df_context['run'] = run\n",
    "    #     df_context.to_csv(context_file_path.format(c), index=False)\n",
    "        df_all = df_all.append(df_context)\n",
    "\n",
    "        # [8] Summary\n",
    "        df_mean = summarize_df(df_context, param_list, c)\n",
    "        df_summary = df_summary.append(df_mean)"
   ]
  },
  {
   "cell_type": "code",
   "execution_count": 7,
   "metadata": {},
   "outputs": [
    {
     "data": {
      "text/plain": [
       "array([0])"
      ]
     },
     "execution_count": 7,
     "metadata": {},
     "output_type": "execute_result"
    }
   ],
   "source": [
    "df_all.run.unique()"
   ]
  },
  {
   "cell_type": "code",
   "execution_count": 8,
   "metadata": {},
   "outputs": [],
   "source": [
    "out_path = os.path.join(folder_path, \"df_all_4_3_2_50runs.csv\")\n",
    "df_all.to_csv(out_path)"
   ]
  },
  {
   "cell_type": "code",
   "execution_count": null,
   "metadata": {},
   "outputs": [],
   "source": [
    "coeff_all"
   ]
  },
  {
   "cell_type": "code",
   "execution_count": null,
   "metadata": {},
   "outputs": [],
   "source": [
    "coeff_all"
   ]
  },
  {
   "cell_type": "code",
   "execution_count": null,
   "metadata": {},
   "outputs": [],
   "source": [
    "# 4-3-2 ground truth\n",
    "min_actions = {}\n",
    "min_reward = {}\n",
    "grps_run = df_all.groupby(['run'])\n",
    "for run in grps_run.groups.keys():\n",
    "    df_temp = grps_run.get_group(run)\n",
    "    grps = df_temp.groupby(['platform', 'network', 'country'])\n",
    "    for grp in grps.groups.keys():\n",
    "        if grp not in min_actions.keys():\n",
    "            min_actions[grp] = {}\n",
    "            min_reward[grp] = []\n",
    "        temp_grp = grps.get_group(grp)\n",
    "        temp_min = temp_grp['reward'].min()\n",
    "        for action in ['x', 'y', 'z']:\n",
    "            if action not in min_actions[grp].keys():\n",
    "                min_actions[grp][action] = []\n",
    "        min_actions[grp]['x'].append(df_temp[df_temp['reward'] == temp_min][['x','y','z']].drop_duplicates().values[:,0])\n",
    "        min_actions[grp]['y'].append(df_temp[df_temp['reward'] == temp_min][['x','y','z']].drop_duplicates().values[:,1])\n",
    "        min_actions[grp]['z'].append(df_temp[df_temp['reward'] == temp_min][['x','y','z']].drop_duplicates().values[:,2])\n",
    "        min_reward[grp].append(temp_min)\n",
    "        print(grp, temp_min, df_temp[df_temp['reward'] == temp_min][['x','y','z']].drop_duplicates().values)"
   ]
  },
  {
   "cell_type": "code",
   "execution_count": null,
   "metadata": {},
   "outputs": [],
   "source": [
    "for key in min_actions.keys():\n",
    "    print(key)\n",
    "    print(np.mean(min_actions[key]['x']))\n",
    "    print(np.mean(min_actions[key]['y']))\n",
    "    print(np.mean(min_actions[key]['z']))"
   ]
  },
  {
   "cell_type": "code",
   "execution_count": null,
   "metadata": {},
   "outputs": [],
   "source": [
    "min_reward"
   ]
  },
  {
   "cell_type": "code",
   "execution_count": null,
   "metadata": {},
   "outputs": [],
   "source": []
  },
  {
   "cell_type": "code",
   "execution_count": null,
   "metadata": {},
   "outputs": [],
   "source": []
  }
 ],
 "metadata": {
  "kernelspec": {
   "display_name": "Python 3",
   "language": "python",
   "name": "python3"
  },
  "language_info": {
   "codemirror_mode": {
    "name": "ipython",
    "version": 3
   },
   "file_extension": ".py",
   "mimetype": "text/x-python",
   "name": "python",
   "nbconvert_exporter": "python",
   "pygments_lexer": "ipython3",
   "version": "3.6.8"
  }
 },
 "nbformat": 4,
 "nbformat_minor": 2
}
